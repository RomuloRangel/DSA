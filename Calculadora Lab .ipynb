{
 "cells": [
  {
   "cell_type": "markdown",
   "id": "2527e47a",
   "metadata": {},
   "source": [
    "# Calculadora Python"
   ]
  },
  {
   "cell_type": "code",
   "execution_count": null,
   "id": "3c6cf287",
   "metadata": {},
   "outputs": [],
   "source": [
    "# Cabecario calculadora\n",
    "print('*'*20,'Calculadora Python','*'*20)\n",
    "print(\"\\n \"*4)\n",
    "print('Selecione a Operação desejada:','\\n 1 - Adição \\n 2 - Subtração \\n 3 - Multiplação \\n 4 - Divisão \\n')"
   ]
  },
  {
   "cell_type": "code",
   "execution_count": null,
   "id": "a02e5689",
   "metadata": {},
   "outputs": [],
   "source": [
    "#Armazenando a opção do usuario em uma variavel\n",
    "op = int(input('Digite a Operação desejada'))\n",
    "\n",
    "#Armazenando os valores\n",
    "var1 = int(input)"
   ]
  },
  {
   "cell_type": "code",
   "execution_count": null,
   "id": "fafbc984",
   "metadata": {},
   "outputs": [],
   "source": [
    "    "
   ]
  },
  {
   "cell_type": "code",
   "execution_count": null,
   "id": "818b9306",
   "metadata": {},
   "outputs": [],
   "source": []
  }
 ],
 "metadata": {
  "kernelspec": {
   "display_name": "Python 3 (ipykernel)",
   "language": "python",
   "name": "python3"
  },
  "language_info": {
   "codemirror_mode": {
    "name": "ipython",
    "version": 3
   },
   "file_extension": ".py",
   "mimetype": "text/x-python",
   "name": "python",
   "nbconvert_exporter": "python",
   "pygments_lexer": "ipython3",
   "version": "3.9.12"
  }
 },
 "nbformat": 4,
 "nbformat_minor": 5
}
